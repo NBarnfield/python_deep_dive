{
 "cells": [
  {
   "cell_type": "markdown",
   "metadata": {
    "collapsed": true
   },
   "source": [
    "Try, except clauses can also have a finally clause at the end."
   ]
  },
  {
   "cell_type": "code",
   "execution_count": 2,
   "metadata": {},
   "outputs": [
    {
     "name": "stdout",
     "output_type": "stream",
     "text": [
      "Cannot divide by zero!!\nThis always prints!\n"
     ]
    }
   ],
   "source": [
    "a = 10\n",
    "b = 0\n",
    "\n",
    "try:\n",
    "    a/b\n",
    "except ZeroDivisionError:\n",
    "    print('Cannot divide by zero!!')\n",
    "finally:\n",
    "    print('This always prints!')"
   ]
  },
  {
   "cell_type": "code",
   "execution_count": 3,
   "metadata": {},
   "outputs": [
    {
     "name": "stdout",
     "output_type": "stream",
     "text": [
      "-------------\n1, 1 - always executes.\n1, 1 - main loop.\n-------------\n2, 0 - division by 0\n2, 0 - always executes.\n-------------\n3, -1 - always executes.\n3, -1 - main loop.\n-------------\n4, -2 - always executes.\n4, -2 - main loop.\n"
     ]
    }
   ],
   "source": [
    "a = 0\n",
    "b = 2\n",
    "\n",
    "while a < 4:\n",
    "    print('-------------')\n",
    "    a += 1\n",
    "    b -= 1\n",
    "    \n",
    "    try:\n",
    "        a/b\n",
    "    except ZeroDivisionError:\n",
    "        print(\"{0}, {1} - division by 0\".format(a, b))\n",
    "        continue\n",
    "    \n",
    "    finally:\n",
    "        print(\"{0}, {1} - always executes.\".format(a, b))\n",
    "    \n",
    "    print(\"{0}, {1} - main loop.\".format(a, b))"
   ]
  },
  {
   "cell_type": "markdown",
   "metadata": {},
   "source": [
    "If you need to role back a transaction or close a file in a loop then you can use the finally clause to ensure the action occurs in your code."
   ]
  },
  {
   "cell_type": "code",
   "execution_count": 8,
   "metadata": {},
   "outputs": [
    {
     "name": "stdout",
     "output_type": "stream",
     "text": [
      "---------------\nValue 0 not in list\n---------------\nValue 1 is in list\n---------------\nValue 2 is in list\n---------------\nValue 3 is in list\n---------------\nValue 4 is in list\n---------------\nValue 5 is in list\n---------------\nValue 6 not in list\n---------------\nAll 7 values have been compared\n"
     ]
    }
   ],
   "source": [
    "l = [1, 2, 3, 4, 5, 'apple', 'grape']\n",
    "idx = 0\n",
    "\n",
    "while idx < len(l):\n",
    "    print('---------------')\n",
    "    if idx in l:\n",
    "        print(\"Value {0} is in list\".format(idx))\n",
    "    else:\n",
    "        print('Value {0} not in list'.format(idx))\n",
    "    idx += 1\n",
    "# This else clause will execute upon the successful normal completion of the while loop\n",
    "else:\n",
    "    print('---------------')\n",
    "    print('All {0} values have been compared'.format(len(l)))"
   ]
  },
  {
   "cell_type": "code",
   "execution_count": null,
   "metadata": {},
   "outputs": [],
   "source": []
  }
 ],
 "metadata": {
  "kernelspec": {
   "display_name": "Python 2",
   "language": "python",
   "name": "python2"
  },
  "language_info": {
   "codemirror_mode": {
    "name": "ipython",
    "version": 2
   },
   "file_extension": ".py",
   "mimetype": "text/x-python",
   "name": "python",
   "nbconvert_exporter": "python",
   "pygments_lexer": "ipython2",
   "version": "2.7.6"
  }
 },
 "nbformat": 4,
 "nbformat_minor": 0
}
